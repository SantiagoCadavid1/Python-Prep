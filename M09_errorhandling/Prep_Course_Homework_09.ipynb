{
 "cells": [
  {
   "attachments": {},
   "cell_type": "markdown",
   "metadata": {},
   "source": [
    "## Manejo de errores"
   ]
  },
  {
   "attachments": {},
   "cell_type": "markdown",
   "metadata": {},
   "source": [
    "1) Con la clase creada en el módulo 7, tener en cuenta diferentes casos en que el código pudiera arrojar error. Por ejemplo, en la creación del objeto recibimos una lista de números enteros pero ¿qué pasa si se envía otro tipo de dato?"
   ]
  },
  {
   "cell_type": "code",
   "execution_count": 2,
   "metadata": {},
   "outputs": [
    {
     "name": "stdout",
     "output_type": "stream",
     "text": [
      "unsupported operand type(s) for //: 'str' and 'int'\n"
     ]
    }
   ],
   "source": [
    "#Algunas de las funciones son flexibles y admiten por ejemplo valores flotantes en lugar de enteros, sin embargo si se envia un string se dispara un error como se ve a continuacion:\n",
    "import sys\n",
    "\n",
    "\n",
    "#print(sys.path)\n",
    "sys.path.append('..\\\\M07_funciones')\n",
    "import Prep_Course_Homework_07 as funciones\n",
    "#print(sys.path)\n",
    "\n",
    "try:\n",
    "    funciones.es_primo(\"Hola\")\n",
    "except TypeError as error:\n",
    "    print(error)"
   ]
  },
  {
   "attachments": {},
   "cell_type": "markdown",
   "metadata": {},
   "source": [
    "2) En la función que hace la conversión de grados, validar que los parámetros enviados sean los esperados, de no serlo, informar cuáles son los valores esperados."
   ]
  },
  {
   "cell_type": "code",
   "execution_count": 4,
   "metadata": {},
   "outputs": [],
   "source": [
    "#Esto se puede hacer agregando afirmaciones a la funcion original\n",
    "\n",
    "def conversion(temp, uni_inicial, uni_destino):\n",
    "    \"\"\"_summary_\n",
    "\n",
    "    Args:\n",
    "        temp (float): Numero real que represente la temperatura en alguna de las unidades\n",
    "        uni_inicial (string): \"Celsius\", \"Farenheit\" o \"Kelvin\" indicando cual es la unidad a la que se esta dando la temperatura\n",
    "        uni_destino (string): \"Celsius\", \"Farenheit\" o \"Kelvin\" indicando cual es la temperatura a la que se desea convertir la temperatura inicial\n",
    "\n",
    "    Returns:\n",
    "        float: Valor de conversion de la temperatura\n",
    "    \"\"\"    \n",
    "    assert uni_inicial in [\"Celsius\", \"Farenheit\", \"Kelvin\"], \"La unidad inicial indicada es invalida\"\n",
    "    assert uni_inicial in [\"Celsius\", \"Farenheit\", \"Kelvin\"], \"La unidad de conversion indicada es invalida\"\n",
    "    \n",
    "    if (uni_inicial==\"Celsius\"):\n",
    "        if(uni_destino==\"Celsius\"):\n",
    "            return temp\n",
    "        elif(uni_destino==\"Farenheit\"):\n",
    "            return (temp*9/5)+32\n",
    "        else:\n",
    "            return temp+273.15\n",
    "    elif (uni_inicial==\"Farenheit\"):\n",
    "        return conversion((temp-32)*5/9, \"Celsius\", uni_destino)\n",
    "    else:\n",
    "        return conversion(temp-273.15, \"Celsius\", uni_destino)"
   ]
  },
  {
   "attachments": {},
   "cell_type": "markdown",
   "metadata": {},
   "source": [
    "3) Importar el modulo \"unittest\" y crear los siguientes casos de pruebas sobre la clase utilizada en el punto 2<br>\n",
    "Creacion del objeto incorrecta<br>\n",
    "Creacion correcta del objeto<br>\n",
    "Metodo valor_modal()<br>\n",
    "\n",
    "Se puede usar \"raise ValueError()\" en la creación de la clase para verificar el error. Investigar sobre esta funcionalidad."
   ]
  },
  {
   "cell_type": "code",
   "execution_count": 3,
   "metadata": {},
   "outputs": [],
   "source": [
    "sys.path.append('..\\\\M08_clasesyOOP')\n",
    "import Prep_Course_Homework_08 as clases"
   ]
  },
  {
   "cell_type": "code",
   "execution_count": 37,
   "metadata": {},
   "outputs": [],
   "source": [
    "import unittest\n",
    "\n",
    "class PruebaClases(unittest.TestCase):\n",
    "    \n",
    "    def test_crear_objeto(self):\n",
    "        lista=[1,2,3,\"a\"]\n",
    "        self.assertRaises(ValueError,clases.Operaciones,lista)\n",
    "        \n",
    "    def test_crear_objeto2(self):\n",
    "        lista=[1,2,3,4]\n",
    "        self.assertEqual(clases.Operaciones(lista).lista,lista)\n",
    "        \n",
    "    def test_moda(self):\n",
    "        lista=[1,2,3,4,1,1,2,2]\n",
    "        self.assertEqual(funciones.num_repetido(lista),(1,3))\n",
    "    "
   ]
  },
  {
   "cell_type": "code",
   "execution_count": 39,
   "metadata": {},
   "outputs": [
    {
     "name": "stderr",
     "output_type": "stream",
     "text": [
      "test_crear_objeto (__main__.PruebaClases.test_crear_objeto) ... ok\n",
      "test_crear_objeto2 (__main__.PruebaClases.test_crear_objeto2) ... ok\n",
      "test_moda (__main__.PruebaClases.test_moda) ... ok\n",
      "\n",
      "----------------------------------------------------------------------\n",
      "Ran 3 tests in 0.003s\n",
      "\n",
      "OK\n"
     ]
    },
    {
     "data": {
      "text/plain": [
       "<unittest.main.TestProgram at 0x1595334e450>"
      ]
     },
     "execution_count": 39,
     "metadata": {},
     "output_type": "execute_result"
    }
   ],
   "source": [
    "unittest.main(argv=[''], verbosity=2, exit=False)"
   ]
  },
  {
   "attachments": {},
   "cell_type": "markdown",
   "metadata": {},
   "source": [
    "4) Probar una creación incorrecta y visualizar la salida del \"raise\""
   ]
  },
  {
   "cell_type": "code",
   "execution_count": 42,
   "metadata": {},
   "outputs": [
    {
     "ename": "ValueError",
     "evalue": "El valor del elemento ERROR no corresponde a un entero",
     "output_type": "error",
     "traceback": [
      "\u001b[1;31m---------------------------------------------------------------------------\u001b[0m",
      "\u001b[1;31mValueError\u001b[0m                                Traceback (most recent call last)",
      "Cell \u001b[1;32mIn[42], line 1\u001b[0m\n\u001b[1;32m----> 1\u001b[0m clases\u001b[38;5;241m.\u001b[39mOperaciones([\u001b[38;5;241m1\u001b[39m,\u001b[38;5;241m2\u001b[39m,\u001b[38;5;241m3\u001b[39m,\u001b[38;5;124m\"\u001b[39m\u001b[38;5;124mERROR\u001b[39m\u001b[38;5;124m\"\u001b[39m])\n",
      "File \u001b[1;32mc:\\Users\\SantiagoPPal\\PrepDC\\Python-Prep\\M09_errorhandling\\..\\M08_clasesyOOP\\Prep_Course_Homework_08.py:71\u001b[0m, in \u001b[0;36mOperaciones.__init__\u001b[1;34m(self, lista)\u001b[0m\n\u001b[0;32m     69\u001b[0m \u001b[38;5;28;01mfor\u001b[39;00m i \u001b[38;5;129;01min\u001b[39;00m lista:\n\u001b[0;32m     70\u001b[0m     \u001b[38;5;28;01mif\u001b[39;00m (\u001b[38;5;28mtype\u001b[39m(i)\u001b[38;5;241m!=\u001b[39m\u001b[38;5;28mint\u001b[39m):\n\u001b[1;32m---> 71\u001b[0m         \u001b[38;5;28;01mraise\u001b[39;00m \u001b[38;5;167;01mValueError\u001b[39;00m(\u001b[38;5;124m\"\u001b[39m\u001b[38;5;124mEl valor del elemento \u001b[39m\u001b[38;5;132;01m{}\u001b[39;00m\u001b[38;5;124m no corresponde a un entero\u001b[39m\u001b[38;5;124m\"\u001b[39m\u001b[38;5;241m.\u001b[39mformat(i))\n\u001b[0;32m     72\u001b[0m     \u001b[38;5;28;01melse\u001b[39;00m:\n\u001b[0;32m     73\u001b[0m         \u001b[38;5;28mself\u001b[39m\u001b[38;5;241m.\u001b[39mlista\u001b[38;5;241m.\u001b[39mappend(i)\n",
      "\u001b[1;31mValueError\u001b[0m: El valor del elemento ERROR no corresponde a un entero"
     ]
    }
   ],
   "source": [
    "clases.Operaciones([1,2,3,\"ERROR\"])"
   ]
  },
  {
   "attachments": {},
   "cell_type": "markdown",
   "metadata": {},
   "source": [
    "6) Agregar casos de pruebas para el método verifica_primos() realizando el cambio en la clase, para que devuelva una lista de True o False en función de que el elemento en la posisicón sea o no primo"
   ]
  },
  {
   "cell_type": "code",
   "execution_count": null,
   "metadata": {},
   "outputs": [],
   "source": []
  },
  {
   "attachments": {},
   "cell_type": "markdown",
   "metadata": {},
   "source": [
    "7) Agregar casos de pruebas para el método conversion_grados()"
   ]
  },
  {
   "cell_type": "code",
   "execution_count": null,
   "metadata": {},
   "outputs": [],
   "source": []
  },
  {
   "attachments": {},
   "cell_type": "markdown",
   "metadata": {},
   "source": [
    "8) Agregar casos de pruebas para el método factorial()"
   ]
  },
  {
   "cell_type": "code",
   "execution_count": null,
   "metadata": {},
   "outputs": [],
   "source": []
  }
 ],
 "metadata": {
  "interpreter": {
   "hash": "c85384e4cb51c8b72350f3a8712cc8351fdc3955e32a27f9b60c6242ab125f01"
  },
  "kernelspec": {
   "display_name": "Python 3 (ipykernel)",
   "language": "python",
   "name": "python3"
  },
  "language_info": {
   "codemirror_mode": {
    "name": "ipython",
    "version": 3
   },
   "file_extension": ".py",
   "mimetype": "text/x-python",
   "name": "python",
   "nbconvert_exporter": "python",
   "pygments_lexer": "ipython3",
   "version": "3.11.5"
  }
 },
 "nbformat": 4,
 "nbformat_minor": 4
}
