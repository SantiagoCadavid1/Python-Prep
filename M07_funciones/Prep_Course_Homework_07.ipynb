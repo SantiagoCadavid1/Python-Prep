{
 "cells": [
  {
   "attachments": {},
   "cell_type": "markdown",
   "metadata": {},
   "source": [
    "## Funciones"
   ]
  },
  {
   "attachments": {},
   "cell_type": "markdown",
   "metadata": {},
   "source": [
    "1) Crear una función que reciba un número como parámetro y devuelva True si es primo y False si no lo es"
   ]
  },
  {
   "cell_type": "code",
   "execution_count": 1,
   "metadata": {},
   "outputs": [],
   "source": [
    "def es_primo(num):\n",
    "    \"\"\"Esta funcion recibe un numero entero y retorna un valor booleano dependiendo si dicho valor es o no primo.\n",
    "\n",
    "    Args:\n",
    "        num (entero): Numero a evaluar si es primo o no.\n",
    "\n",
    "    Returns:\n",
    "        booleano: Valor booleano, es True si el valor de entrada es primo y False en caso contrario\n",
    "    \"\"\"\n",
    "    for i in range(2,num//2+1):\n",
    "        if (num%i==0):\n",
    "            return False\n",
    "    return True"
   ]
  },
  {
   "attachments": {},
   "cell_type": "markdown",
   "metadata": {},
   "source": [
    "2) Utilizando la función del punto 1, realizar otra función que reciba de parámetro una lista de números y devuelva sólo aquellos que son primos en otra lista"
   ]
  },
  {
   "cell_type": "code",
   "execution_count": 2,
   "metadata": {},
   "outputs": [],
   "source": [
    "def evalListaPrimos(lista):\n",
    "    \"\"\"Funcion que evalua que numeros de una lista son enteros\n",
    "\n",
    "    Args:\n",
    "        lista (lista): Lista compuesta por numeros enteros\n",
    "\n",
    "    Returns:\n",
    "        lista: Lista compuesta por valores booleanos que corresponden a si los valores de la lista de entrada son o no primos\n",
    "    \"\"\"    \n",
    "    result=[]\n",
    "    for i in lista:\n",
    "        result.append(es_primo(i))\n",
    "    return result"
   ]
  },
  {
   "attachments": {},
   "cell_type": "markdown",
   "metadata": {},
   "source": [
    "3) Crear una función que al recibir una lista de números, devuelva el que más se repite y cuántas veces lo hace. Si hay más de un \"más repetido\", que devuelva cualquiera"
   ]
  },
  {
   "cell_type": "code",
   "execution_count": 3,
   "metadata": {},
   "outputs": [],
   "source": [
    "def num_repetido(lista):\n",
    "    \"\"\"Esta funcion recibe como argumento una lista y retorno el numero que mas se haya repetido\n",
    "\n",
    "    Args:\n",
    "        lista (lista): Lista a evaluar\n",
    "\n",
    "    Returns:\n",
    "        entero: Retorna el primer valor que mas veces se haya repetido\n",
    "    \"\"\"    \n",
    "    maximo=0\n",
    "    numero=lista[0]\n",
    "    for i in lista:\n",
    "        actual=0\n",
    "        for j in lista:\n",
    "            if j==i:\n",
    "                actual+=1\n",
    "        if actual>maximo:\n",
    "            maximo=actual\n",
    "            numero=i\n",
    "    return numero, maximo"
   ]
  },
  {
   "attachments": {},
   "cell_type": "markdown",
   "metadata": {},
   "source": [
    "4) Crear una función que convierta entre grados Celsius, Farenheit y Kelvin<br>\n",
    "Fórmula 1\t: (°C × 9/5) + 32 = °F<br>\n",
    "Fórmula 2\t: °C + 273.15 = °K<br>\n",
    "Debe recibir 3 parámetros: el valor, la medida de orígen y la medida de destino\n"
   ]
  },
  {
   "cell_type": "code",
   "execution_count": 4,
   "metadata": {},
   "outputs": [],
   "source": [
    "def conversion(temp, uni_inicial, uni_destino):\n",
    "    \"\"\"_summary_\n",
    "\n",
    "    Args:\n",
    "        temp (float): Numero real que represente la temperatura en alguna de las unidades\n",
    "        uni_inicial (string): \"Celsius\", \"Farenheit\" o \"Kelvin\" indicando cual es la unidad a la que se esta dando la temperatura\n",
    "        uni_destino (string): \"Celsius\", \"Farenheit\" o \"Kelvin\" indicando cual es la temperatura a la que se desea convertir la temperatura inicial\n",
    "\n",
    "    Returns:\n",
    "        float: Valor de conversion de la temperatura\n",
    "    \"\"\"    \n",
    "    if (uni_inicial==\"Celsius\"):\n",
    "        if(uni_destino==\"Celsius\"):\n",
    "            return temp\n",
    "        elif(uni_destino==\"Farenheit\"):\n",
    "            return (temp*9/5)+32\n",
    "        else:\n",
    "            return temp+273.15\n",
    "    elif (uni_inicial==\"Farenheit\"):\n",
    "        return conversion((temp-32)*5/9, \"Celsius\", uni_destino)\n",
    "    else:\n",
    "        return conversion(temp-273.15, \"Celsius\", uni_destino)"
   ]
  },
  {
   "attachments": {},
   "cell_type": "markdown",
   "metadata": {},
   "source": [
    "5) Iterando una lista con los tres valores posibles de temperatura que recibe la función del punto 5, hacer un print para cada combinación de los mismos:"
   ]
  },
  {
   "cell_type": "code",
   "execution_count": 5,
   "metadata": {},
   "outputs": [
    {
     "name": "stdout",
     "output_type": "stream",
     "text": [
      "Si la temperatura en Celsius es 0, entonces su equivalente en Celsius sera 0\n",
      "Si la temperatura en Celsius es 0, entonces su equivalente en Farenheit sera 32.0\n",
      "Si la temperatura en Celsius es 0, entonces su equivalente en Kelvin sera 273.15\n",
      "Si la temperatura en Farenheit es 0, entonces su equivalente en Celsius sera -17.77777777777778\n",
      "Si la temperatura en Farenheit es 0, entonces su equivalente en Farenheit sera 0.0\n",
      "Si la temperatura en Farenheit es 0, entonces su equivalente en Kelvin sera 255.3722222222222\n",
      "Si la temperatura en Kelvin es 0, entonces su equivalente en Celsius sera -273.15\n",
      "Si la temperatura en Kelvin es 0, entonces su equivalente en Farenheit sera -459.66999999999996\n",
      "Si la temperatura en Kelvin es 0, entonces su equivalente en Kelvin sera 0.0\n"
     ]
    }
   ],
   "source": [
    "unidades=[\"Celsius\", \"Farenheit\", \"Kelvin\"]\n",
    "temp=0\n",
    "for i in unidades:\n",
    "    for j in unidades:\n",
    "        print(\"Si la temperatura en {} es {}, entonces su equivalente en {} sera {}\".format(i,temp,j,conversion(temp,i,j)))"
   ]
  },
  {
   "attachments": {},
   "cell_type": "markdown",
   "metadata": {},
   "source": [
    "6) Armar una función que devuelva el factorial de un número. Tener en cuenta que el usuario puede equivocarse y enviar de parámetro un número no entero o negativo"
   ]
  },
  {
   "cell_type": "code",
   "execution_count": 6,
   "metadata": {},
   "outputs": [],
   "source": [
    "def factorial(val):\n",
    "    if (type(val)==int)and(val>=1):\n",
    "        if (val>1):\n",
    "            return val*factorial(val-1)\n",
    "        else:\n",
    "            return val\n",
    "    else:\n",
    "        return \"Para utilizar la funcion factorial ingrese un valor entero positivo\""
   ]
  },
  {
   "cell_type": "code",
   "execution_count": 7,
   "metadata": {},
   "outputs": [
    {
     "name": "stdout",
     "output_type": "stream",
     "text": [
      "[True, False, True, True, False, True, True, False, True, False, True, True]\n",
      "(1, 5)\n",
      "720\n",
      "Para utilizar la funcion factorial ingrese un valor entero positivo\n",
      "Para utilizar la funcion factorial ingrese un valor entero positivo\n",
      "Para utilizar la funcion factorial ingrese un valor entero positivo\n"
     ]
    }
   ],
   "source": [
    "print(evalListaPrimos([2,4,5,7,9,11,13,15,17,21,23,29]))\n",
    "print(num_repetido([1,1,1,1,2,3,4,5,6,7,2,2,2,2,1]))\n",
    "print(factorial(6))\n",
    "print(factorial(6.0))\n",
    "print(factorial(\"h\"))\n",
    "print(factorial(-1))"
   ]
  }
 ],
 "metadata": {
  "interpreter": {
   "hash": "c85384e4cb51c8b72350f3a8712cc8351fdc3955e32a27f9b60c6242ab125f01"
  },
  "kernelspec": {
   "display_name": "Python 3 (ipykernel)",
   "language": "python",
   "name": "python3"
  },
  "language_info": {
   "codemirror_mode": {
    "name": "ipython",
    "version": 3
   },
   "file_extension": ".py",
   "mimetype": "text/x-python",
   "name": "python",
   "nbconvert_exporter": "python",
   "pygments_lexer": "ipython3",
   "version": "3.11.5"
  }
 },
 "nbformat": 4,
 "nbformat_minor": 4
}
