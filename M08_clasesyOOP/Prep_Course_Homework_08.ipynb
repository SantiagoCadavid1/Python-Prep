{
 "cells": [
  {
   "attachments": {},
   "cell_type": "markdown",
   "metadata": {},
   "source": [
    "## Clases y Programación Orientada a Objetos"
   ]
  },
  {
   "attachments": {},
   "cell_type": "markdown",
   "metadata": {},
   "source": [
    "1) Crear la clase vehículo que contenga los atributos:<br>\n",
    "Color<br>\n",
    "Si es moto, auto, camioneta ó camión<br>\n",
    "Cilindrada del motor"
   ]
  },
  {
   "cell_type": "code",
   "execution_count": 2,
   "metadata": {},
   "outputs": [],
   "source": [
    "class Vehiculo():\n",
    "    def __init__(self,color,tipo,cilindraje):\n",
    "        self.color=color\n",
    "        self.tipo=tipo\n",
    "        self.cilindraje=cilindraje  "
   ]
  },
  {
   "attachments": {},
   "cell_type": "markdown",
   "metadata": {},
   "source": [
    "2) A la clase Vehiculo creada en el punto 1, agregar los siguientes métodos:<br>\n",
    "Acelerar<br>\n",
    "Frenar<br>\n",
    "Doblar<br>"
   ]
  },
  {
   "cell_type": "code",
   "execution_count": 3,
   "metadata": {},
   "outputs": [],
   "source": [
    "class Vehiculo():\n",
    "    def __init__(self,color,tipo,cilindraje):\n",
    "        self.color=color\n",
    "        self.tipo=tipo\n",
    "        self.cilindraje=cilindraje  \n",
    "        self.velocidad=0\n",
    "        self.direccion=\"derecho\"\n",
    "        \n",
    "    def acelerar(self,vel=1):\n",
    "        self.velocidad+=vel\n",
    "        print(\"El vehiculo de tipo {} esta acelerando, su velocidad es {}\".format(self.tipo,self.velocidad))\n",
    "    \n",
    "    def frenar(self,vel=1):\n",
    "        self.velocidad-=vel\n",
    "        print(\"El vehiculo de tipo {} esta frenando, su velocidad es {}\".format(self.tipo,self.velocidad))\n",
    "        \n",
    "    def doblar(self,direccion):\n",
    "        if (self.direccion==\"derecho\"):\n",
    "            self.direccion=direccion\n",
    "        elif (self.direccion!=direccion):\n",
    "            self.direccion==\"derecho\"\n",
    "        print(\"El vehiculo de tipo {} esta doblando hacia la {}\".format(self.tipo,direccion))"
   ]
  },
  {
   "attachments": {},
   "cell_type": "markdown",
   "metadata": {},
   "source": [
    "3) Instanciar 3 objetos de la clase vehículo y ejecutar sus métodos, probar luego el resultado"
   ]
  },
  {
   "cell_type": "code",
   "execution_count": 4,
   "metadata": {},
   "outputs": [
    {
     "name": "stdout",
     "output_type": "stream",
     "text": [
      "El vehiculo de tipo moto esta acelerando, su velocidad es 10\n",
      "El vehiculo de tipo carro esta acelerando, su velocidad es 5\n",
      "El vehiculo de tipo moto esta frenando, su velocidad es 7\n",
      "El vehiculo de tipo moto esta doblando hacia la derecha\n"
     ]
    }
   ],
   "source": [
    "moto1=Vehiculo(\"roja\", \"moto\", 8)\n",
    "carro1=Vehiculo(\"negro\", \"carro\", 9)\n",
    "camion1=Vehiculo(\"azul\", \"camion\", 12)\n",
    "\n",
    "moto1.acelerar(10)\n",
    "carro1.acelerar(5)\n",
    "moto1.frenar(3)\n",
    "moto1.doblar(\"derecha\")"
   ]
  },
  {
   "attachments": {},
   "cell_type": "markdown",
   "metadata": {},
   "source": [
    "4) Agregar a la clase Vehiculo, un método que muestre su estado, es decir, a que velocidad se encuentra y su dirección. Y otro método que muestre color, tipo y cilindrada"
   ]
  },
  {
   "cell_type": "code",
   "execution_count": 6,
   "metadata": {},
   "outputs": [],
   "source": [
    "class Vehiculo():\n",
    "    def __init__(self,color,tipo,cilindraje):\n",
    "        self.color=color\n",
    "        self.tipo=tipo\n",
    "        self.cilindraje=cilindraje  \n",
    "        self.velocidad=0\n",
    "        self.direccion=\"derecho\"\n",
    "        \n",
    "    def acelerar(self,vel=1):\n",
    "        self.velocidad+=vel\n",
    "        print(\"El vehiculo de tipo {} esta acelerando, su velocidad es {}\".format(self.tipo,self.velocidad))\n",
    "    \n",
    "    def frenar(self,vel=1):\n",
    "        self.velocidad-=vel\n",
    "        print(\"El vehiculo de tipo {} esta frenando, su velocidad es {}\".format(self.tipo,self.velocidad))\n",
    "        \n",
    "    def doblar(self,direccion):\n",
    "        if (self.direccion==\"derecho\"):\n",
    "            self.direccion=direccion\n",
    "        elif (self.direccion!=direccion):\n",
    "            self.direccion==\"derecho\"\n",
    "        print(\"El vehiculo de tipo {} esta doblando hacia la {}\".format(self.tipo,direccion))\n",
    "        \n",
    "    def estado(self):\n",
    "        print(\"El vehiculo de tipo {} y color {} se dirige hacia la {} a una velocidad de {}\".format(self.tipo,self.color,self.direccion,self.velocidad))\n",
    "        "
   ]
  },
  {
   "attachments": {},
   "cell_type": "markdown",
   "metadata": {},
   "source": [
    "5) Crear una clase que permita utilizar las funciones creadas en la práctica del módulo 7<br>\n",
    "Verificar Primo<br>\n",
    "Valor modal<br>\n",
    "Conversión grados<br>\n",
    "Factorial<br>"
   ]
  },
  {
   "cell_type": "code",
   "execution_count": 12,
   "metadata": {},
   "outputs": [],
   "source": [
    "import sys\n",
    "\n",
    "\n",
    "#print(sys.path)\n",
    "sys.path.append('..\\\\M07_funciones')\n",
    "import Prep_Course_Homework_07 as funciones\n",
    "#print(sys.path)\n",
    "\n",
    "class Operaciones():\n",
    "    def __init__(self,lista):\n",
    "        self.lista=[]\n",
    "        for i in lista:\n",
    "            if (type(i)!=int):\n",
    "                self.lista.append(0)\n",
    "                break\n",
    "            else:\n",
    "                self.lista.append(i)\n",
    "        \n",
    "    def es_primo(self):\n",
    "        \n",
    "        for i, j in zip(self.lista,funciones.evalListaPrimos(self.lista)):\n",
    "            if j:\n",
    "                print(\"El numero {} es primo\".format(i))\n",
    "            else:\n",
    "                print(\"El numero {} no es primo\".format(i))\n",
    "    \n",
    "    def moda(self):\n",
    "        numero, maximo = funciones.num_repetido(self.lista)\n",
    "        print(\"El numero que mas se repite de la listas es {} repitiendose {} veces\".format(numero, maximo))\n",
    "        \n",
    "    def conversion(self,index=0,origen=\"Celsius\",destino=\"Farenheit\"):\n",
    "        print(\"Si la temperatura en {} es {} entonces en {} es {}\".format(origen,self.lista[index],destino,funciones.conversion(self.lista[index],origen,destino)))\n",
    "        \n",
    "    def factorial(self,index=0):\n",
    "        print(\"El factorial de {} es igual a {}\".format(self.lista[index],funciones.factorial(self.lista[index])))"
   ]
  },
  {
   "attachments": {},
   "cell_type": "markdown",
   "metadata": {},
   "source": [
    "6) Probar las funciones incorporadas en la clase del punto 5"
   ]
  },
  {
   "cell_type": "code",
   "execution_count": 14,
   "metadata": {},
   "outputs": [
    {
     "name": "stdout",
     "output_type": "stream",
     "text": [
      "El numero 1 es primo\n",
      "El numero 2 es primo\n",
      "El numero 3 es primo\n",
      "El numero 4 no es primo\n",
      "El numero 5 es primo\n",
      "El numero 6 no es primo\n",
      "El numero 7 es primo\n",
      "El numero 8 no es primo\n",
      "El numero 8 no es primo\n",
      "El numero 8 no es primo\n",
      "El numero 8 no es primo\n",
      "El numero que mas se repite de la listas es 8 repitiendose 4 veces\n",
      "Si la temperatura en Celsius es 1 entonces en Farenheit es 33.8\n",
      "El factorial de 8 es igual a 40320\n"
     ]
    }
   ],
   "source": [
    "inst=Operaciones([1,2,3,4,5,6,7,8,8,8,8])\n",
    "inst.es_primo()\n",
    "inst.moda()\n",
    "inst.conversion()\n",
    "inst.factorial(9)"
   ]
  },
  {
   "attachments": {},
   "cell_type": "markdown",
   "metadata": {},
   "source": [
    "7) Es necesario que la clase creada en el punto 5 contenga una lista, sobre la cual se apliquen las funciones incorporadas"
   ]
  },
  {
   "cell_type": "code",
   "execution_count": null,
   "metadata": {},
   "outputs": [],
   "source": [
    "#Esto ya lo hice originalmente"
   ]
  },
  {
   "attachments": {},
   "cell_type": "markdown",
   "metadata": {},
   "source": [
    "8) Crear un archivo .py aparte y ubicar allí la clase generada en el punto anterior. Luego realizar la importación del módulo y probar alguna de sus funciones"
   ]
  },
  {
   "cell_type": "code",
   "execution_count": null,
   "metadata": {},
   "outputs": [],
   "source": [
    "#Esto lo hice al traer las funciones del modulo 7"
   ]
  }
 ],
 "metadata": {
  "interpreter": {
   "hash": "c85384e4cb51c8b72350f3a8712cc8351fdc3955e32a27f9b60c6242ab125f01"
  },
  "kernelspec": {
   "display_name": "Python 3 (ipykernel)",
   "language": "python",
   "name": "python3"
  },
  "language_info": {
   "codemirror_mode": {
    "name": "ipython",
    "version": 3
   },
   "file_extension": ".py",
   "mimetype": "text/x-python",
   "name": "python",
   "nbconvert_exporter": "python",
   "pygments_lexer": "ipython3",
   "version": "3.11.5"
  }
 },
 "nbformat": 4,
 "nbformat_minor": 4
}
