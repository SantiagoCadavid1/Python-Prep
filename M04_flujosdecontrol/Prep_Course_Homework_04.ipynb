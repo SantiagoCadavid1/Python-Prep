{
 "cells": [
  {
   "attachments": {},
   "cell_type": "markdown",
   "metadata": {},
   "source": [
    "## Flujos de Control"
   ]
  },
  {
   "attachments": {},
   "cell_type": "markdown",
   "metadata": {},
   "source": [
    "1) Crear una variable que contenga un elemento del conjunto de números enteros y luego imprimir por pantalla si es mayor o menor a cero"
   ]
  },
  {
   "cell_type": "code",
   "execution_count": 1,
   "metadata": {},
   "outputs": [
    {
     "name": "stdout",
     "output_type": "stream",
     "text": [
      "La variable es igual a cero\n"
     ]
    }
   ],
   "source": [
    "var1=0\n",
    "if (var1>0):\n",
    "    print(\"La variable es mayor a cero\")\n",
    "elif (var1<0):\n",
    "    print(\"La variable es menor a cero\")\n",
    "else:\n",
    "    print(\"La variable es igual a cero\")"
   ]
  },
  {
   "attachments": {},
   "cell_type": "markdown",
   "metadata": {},
   "source": [
    "2) Crear dos variables y un condicional que informe si son del mismo tipo de dato"
   ]
  },
  {
   "cell_type": "code",
   "execution_count": 2,
   "metadata": {},
   "outputs": [
    {
     "name": "stdout",
     "output_type": "stream",
     "text": [
      "Las variables contienen tipos de dato diferentes\n"
     ]
    }
   ],
   "source": [
    "var2=\"Santiago\"\n",
    "var3=3\n",
    "if(type(var2)==type(var3)):\n",
    "    print(\"Las variables contienen el mismo tipo de dato\")\n",
    "else:\n",
    "    print(\"Las variables contienen tipos de dato diferentes\")"
   ]
  },
  {
   "attachments": {},
   "cell_type": "markdown",
   "metadata": {},
   "source": [
    "3) Para los valores enteros del 1 al 20, imprimir por pantalla si es par o impar"
   ]
  },
  {
   "cell_type": "code",
   "execution_count": 3,
   "metadata": {},
   "outputs": [
    {
     "name": "stdout",
     "output_type": "stream",
     "text": [
      "1 es un numero impar\n",
      "2 es un numero par\n",
      "3 es un numero impar\n",
      "4 es un numero par\n",
      "5 es un numero impar\n",
      "6 es un numero par\n",
      "7 es un numero impar\n",
      "8 es un numero par\n",
      "9 es un numero impar\n",
      "10 es un numero par\n",
      "11 es un numero impar\n",
      "12 es un numero par\n",
      "13 es un numero impar\n",
      "14 es un numero par\n",
      "15 es un numero impar\n",
      "16 es un numero par\n",
      "17 es un numero impar\n",
      "18 es un numero par\n",
      "19 es un numero impar\n",
      "20 es un numero par\n"
     ]
    }
   ],
   "source": [
    "for i in range(1,21):\n",
    "    if (i%2==0):\n",
    "        print(\"{} es un numero par\".format(i))\n",
    "    else:\n",
    "        print(\"{} es un numero impar\".format(i))"
   ]
  },
  {
   "attachments": {},
   "cell_type": "markdown",
   "metadata": {},
   "source": [
    "4) En un ciclo for mostrar para los valores entre 0 y 5 el resultado de elevarlo a la potencia igual a 3"
   ]
  },
  {
   "cell_type": "code",
   "execution_count": 4,
   "metadata": {},
   "outputs": [
    {
     "name": "stdout",
     "output_type": "stream",
     "text": [
      "0\n",
      "1\n",
      "8\n",
      "27\n",
      "64\n",
      "125\n"
     ]
    }
   ],
   "source": [
    "for i in range (0,6):\n",
    "    print(i**3)"
   ]
  },
  {
   "attachments": {},
   "cell_type": "markdown",
   "metadata": {},
   "source": [
    "5) Crear una variable que contenga un número entero y realizar un ciclo for la misma cantidad de ciclos"
   ]
  },
  {
   "cell_type": "code",
   "execution_count": 5,
   "metadata": {},
   "outputs": [
    {
     "name": "stdout",
     "output_type": "stream",
     "text": [
      "Esta es la iteracion numero #1\n",
      "Esta es la iteracion numero #2\n",
      "Esta es la iteracion numero #3\n",
      "Esta es la iteracion numero #4\n",
      "Esta es la iteracion numero #5\n",
      "Esta es la iteracion numero #6\n",
      "Esta es la iteracion numero #7\n",
      "Esta es la iteracion numero #8\n",
      "Esta es la iteracion numero #9\n",
      "Esta es la iteracion numero #10\n"
     ]
    }
   ],
   "source": [
    "var4=10\n",
    "for i in range(var4):\n",
    "    print(\"Esta es la iteracion numero #{}\".format(i+1))"
   ]
  },
  {
   "attachments": {},
   "cell_type": "markdown",
   "metadata": {},
   "source": [
    "6) Utilizar un ciclo while para realizar el factorial de un número guardado en una variable, sólo si la variable contiene un número entero mayor a 0"
   ]
  },
  {
   "cell_type": "code",
   "execution_count": 8,
   "metadata": {},
   "outputs": [
    {
     "name": "stdout",
     "output_type": "stream",
     "text": [
      "El facotrial de -3 no se puede computar\n"
     ]
    }
   ],
   "source": [
    "var5=-3\n",
    "var6=var5\n",
    "aux=1\n",
    "if(var5>0):\n",
    "    while(var5!=0):\n",
    "        aux*=var5\n",
    "        var5-=1\n",
    "    print(\"El factorial de {} es igual a {}\".format(var6,aux))\n",
    "else:\n",
    "    print(\"El facotrial de {} no se puede computar\".format(var6))"
   ]
  },
  {
   "attachments": {},
   "cell_type": "markdown",
   "metadata": {},
   "source": [
    "7) Crear un ciclo for dentro de un ciclo while"
   ]
  },
  {
   "cell_type": "code",
   "execution_count": 9,
   "metadata": {},
   "outputs": [
    {
     "name": "stdout",
     "output_type": "stream",
     "text": [
      "El valor total acumulado fue 1140\n"
     ]
    }
   ],
   "source": [
    "var7=0\n",
    "sum=0\n",
    "while(sum<1000):\n",
    "    for i in range(var7):\n",
    "        sum+=i\n",
    "    var7+=1\n",
    "print(\"El valor total acumulado fue {}\".format(sum))"
   ]
  },
  {
   "attachments": {},
   "cell_type": "markdown",
   "metadata": {},
   "source": [
    "8) Crear un ciclo while dentro de un ciclo for"
   ]
  },
  {
   "cell_type": "code",
   "execution_count": 11,
   "metadata": {},
   "outputs": [
    {
     "name": "stdout",
     "output_type": "stream",
     "text": [
      "El valor actual de i es 0\n",
      "El valor actual de i es 1\n",
      "El valor actual de i es 2\n",
      "El valor actual de i es 3\n",
      "El valor actual de i es 4\n",
      "El valor actual de i es 5\n",
      "El valor actual de i es 6\n",
      "El valor actual de i es 7\n",
      "El valor actual de i es 8\n",
      "El valor actual de i es 9\n"
     ]
    }
   ],
   "source": [
    "var8=0\n",
    "for i in range(10):\n",
    "    while(var8!=i):\n",
    "        var8+=1\n",
    "    print(\"El valor actual de i es {}\".format(var8))\n",
    "    var8=0"
   ]
  },
  {
   "attachments": {},
   "cell_type": "markdown",
   "metadata": {},
   "source": [
    "9) Imprimir los números primos existentes entre 0 y 30"
   ]
  },
  {
   "cell_type": "code",
   "execution_count": 12,
   "metadata": {},
   "outputs": [
    {
     "name": "stdout",
     "output_type": "stream",
     "text": [
      "El numero 0 es primo\n",
      "El numero 1 es primo\n",
      "El numero 2 es primo\n",
      "El numero 3 es primo\n",
      "El numero 4 no es primo\n",
      "El numero 5 es primo\n",
      "El numero 6 no es primo\n",
      "El numero 7 es primo\n",
      "El numero 8 no es primo\n",
      "El numero 9 no es primo\n",
      "El numero 10 no es primo\n",
      "El numero 11 es primo\n",
      "El numero 12 no es primo\n",
      "El numero 13 es primo\n",
      "El numero 14 no es primo\n",
      "El numero 15 no es primo\n",
      "El numero 16 no es primo\n",
      "El numero 17 es primo\n",
      "El numero 18 no es primo\n",
      "El numero 19 es primo\n",
      "El numero 20 no es primo\n",
      "El numero 21 no es primo\n",
      "El numero 22 no es primo\n",
      "El numero 23 es primo\n",
      "El numero 24 no es primo\n",
      "El numero 25 no es primo\n",
      "El numero 26 no es primo\n",
      "El numero 27 no es primo\n",
      "El numero 28 no es primo\n",
      "El numero 29 es primo\n",
      "El numero 30 no es primo\n"
     ]
    }
   ],
   "source": [
    "aux=0\n",
    "for i in range(31):\n",
    "    for j in range(1,i+1):\n",
    "        if(i%j==0):\n",
    "            aux+=1\n",
    "    if(aux>2):\n",
    "        print(\"El numero {} no es primo\".format(i))\n",
    "    else:\n",
    "        print(\"El numero {} es primo\".format(i))\n",
    "    aux=0"
   ]
  },
  {
   "attachments": {},
   "cell_type": "markdown",
   "metadata": {},
   "source": [
    "10) ¿Se puede mejorar el proceso del punto 9? Utilizar las sentencias break y/ó continue para tal fin"
   ]
  },
  {
   "cell_type": "code",
   "execution_count": 15,
   "metadata": {},
   "outputs": [
    {
     "name": "stdout",
     "output_type": "stream",
     "text": [
      "El numero 2 es primo\n",
      "El numero 3 es primo\n",
      "El numero 4 no es primo\n",
      "El numero 5 es primo\n",
      "El numero 6 no es primo\n",
      "El numero 7 es primo\n",
      "El numero 8 no es primo\n",
      "El numero 9 no es primo\n",
      "El numero 10 no es primo\n",
      "El numero 11 es primo\n",
      "El numero 12 no es primo\n",
      "El numero 13 es primo\n",
      "El numero 14 no es primo\n",
      "El numero 15 no es primo\n",
      "El numero 16 no es primo\n",
      "El numero 17 es primo\n",
      "El numero 18 no es primo\n",
      "El numero 19 es primo\n",
      "El numero 20 no es primo\n",
      "El numero 21 no es primo\n",
      "El numero 22 no es primo\n",
      "El numero 23 es primo\n",
      "El numero 24 no es primo\n",
      "El numero 25 no es primo\n",
      "El numero 26 no es primo\n",
      "El numero 27 no es primo\n",
      "El numero 28 no es primo\n",
      "El numero 29 es primo\n",
      "El numero 30 no es primo\n"
     ]
    }
   ],
   "source": [
    "#Si se puede, en el momento en el que se encuentren 1 divisor diferente a 1 se determina que el numero no es primo asi:\n",
    "for i in range(31):\n",
    "    for j in range(1,(i//2)+1):\n",
    "        if(i%j==0)and(j!=1):\n",
    "            print(\"El numero {} no es primo\".format(i))\n",
    "            break\n",
    "        elif(j==(i//2)):\n",
    "            print(\"El numero {} es primo\".format(i))\n"
   ]
  },
  {
   "attachments": {},
   "cell_type": "markdown",
   "metadata": {},
   "source": [
    "11) En los puntos 9 y 10, se diseño un código que encuentra números primos y además se lo optimizó. ¿Es posible saber en qué medida se optimizó?"
   ]
  },
  {
   "cell_type": "code",
   "execution_count": 16,
   "metadata": {},
   "outputs": [],
   "source": [
    "#Hay muchas formas de determinar en que medida se optimizo un algoritmo, por ejemplo:\n",
    "#Determinando, en funcion del tamaño de la entrada, el numero de iteraciones requeridas para completar el algoritmo o mejor aun el numero de operaciones fundamentales requeridas para completar dicha tarea"
   ]
  },
  {
   "attachments": {},
   "cell_type": "markdown",
   "metadata": {},
   "source": [
    "12) Aplicando continue, armar un ciclo while que solo imprima los valores divisibles por 12, dentro del rango de números de 100 a 300"
   ]
  },
  {
   "cell_type": "code",
   "execution_count": 19,
   "metadata": {},
   "outputs": [
    {
     "name": "stdout",
     "output_type": "stream",
     "text": [
      "108 es divisible por 12\n",
      "120 es divisible por 12\n",
      "132 es divisible por 12\n",
      "144 es divisible por 12\n",
      "156 es divisible por 12\n",
      "168 es divisible por 12\n",
      "180 es divisible por 12\n",
      "192 es divisible por 12\n",
      "204 es divisible por 12\n",
      "216 es divisible por 12\n",
      "228 es divisible por 12\n",
      "240 es divisible por 12\n",
      "252 es divisible por 12\n",
      "264 es divisible por 12\n",
      "276 es divisible por 12\n",
      "288 es divisible por 12\n",
      "300 es divisible por 12\n"
     ]
    }
   ],
   "source": [
    "var9=100\n",
    "count=0\n",
    "while(var9<=300):\n",
    "    if(count>0):\n",
    "        count-=1\n",
    "        continue\n",
    "    if(var9%12==0):\n",
    "        print(\"{} es divisible por 12\".format(var9))\n",
    "        count=11\n",
    "    var9+=1"
   ]
  },
  {
   "attachments": {},
   "cell_type": "markdown",
   "metadata": {},
   "source": [
    "13) Utilizar la función **input()** que permite hacer ingresos por teclado, para encontrar números primos y dar la opción al usario de buscar el siguiente"
   ]
  },
  {
   "cell_type": "code",
   "execution_count": 27,
   "metadata": {},
   "outputs": [
    {
     "name": "stdout",
     "output_type": "stream",
     "text": [
      "El numero 4 no es primo\n",
      "El numero 5 es primo\n",
      "El numero 7 es primo\n",
      "El numero 9 no es primo\n",
      "El numero 15 no es primo\n",
      "El numero 3 es primo\n",
      "El numero 2 es primo\n"
     ]
    }
   ],
   "source": [
    "while(True):\n",
    "    var10=input(\"Ingrese un numero entero, si desea detener el programa no ingrese nada\")\n",
    "    if(var10==''):\n",
    "        break\n",
    "    else:\n",
    "        var10=int(var10)\n",
    "    for j in range(1,(var10//2)+1):\n",
    "        if(var10%j==0)and(j!=1):\n",
    "            print(\"El numero {} no es primo\".format(var10))\n",
    "            break\n",
    "        elif(j==(var10//2)):\n",
    "            print(\"El numero {} es primo\".format(var10))\n",
    "    "
   ]
  },
  {
   "attachments": {},
   "cell_type": "markdown",
   "metadata": {},
   "source": [
    "14) Crear un ciclo while que encuentre dentro del rango de 100 a 300 el primer número divisible por 3 y además múltiplo de 6"
   ]
  },
  {
   "cell_type": "code",
   "execution_count": 29,
   "metadata": {},
   "outputs": [
    {
     "name": "stdout",
     "output_type": "stream",
     "text": [
      "102 es el primer numero divisible por 3 y multiplo de 6\n"
     ]
    }
   ],
   "source": [
    "var12=100\n",
    "\n",
    "while(var12<=300):\n",
    "    if(var12%3==0)and(var12%6==0):\n",
    "        print(\"{} es el primer numero divisible por 3 y multiplo de 6\".format(var12))\n",
    "        break\n",
    "    var12+=1\n"
   ]
  }
 ],
 "metadata": {
  "interpreter": {
   "hash": "c85384e4cb51c8b72350f3a8712cc8351fdc3955e32a27f9b60c6242ab125f01"
  },
  "kernelspec": {
   "display_name": "Python 3 (ipykernel)",
   "language": "python",
   "name": "python3"
  },
  "language_info": {
   "codemirror_mode": {
    "name": "ipython",
    "version": 3
   },
   "file_extension": ".py",
   "mimetype": "text/x-python",
   "name": "python",
   "nbconvert_exporter": "python",
   "pygments_lexer": "ipython3",
   "version": "3.11.5"
  }
 },
 "nbformat": 4,
 "nbformat_minor": 4
}
